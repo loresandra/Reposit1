{
 "cells": [
  {
   "cell_type": "markdown",
   "id": "c5b7123f",
   "metadata": {},
   "source": [
    "### Intro"
   ]
  },
  {
   "cell_type": "code",
   "execution_count": 1,
   "id": "c4a97070",
   "metadata": {},
   "outputs": [
    {
     "name": "stdout",
     "output_type": "stream",
     "text": [
      "hola mundo de nuevo\n"
     ]
    }
   ],
   "source": [
    "print (\"hola mundo de nuevo\")"
   ]
  },
  {
   "cell_type": "markdown",
   "id": "079b99fc",
   "metadata": {},
   "source": [
    "#### Outro"
   ]
  },
  {
   "cell_type": "code",
   "execution_count": 2,
   "id": "a2fe781a",
   "metadata": {},
   "outputs": [
    {
     "name": "stdout",
     "output_type": "stream",
     "text": [
      "2\n"
     ]
    }
   ],
   "source": [
    "print(2)"
   ]
  }
 ],
 "metadata": {
  "kernelspec": {
   "display_name": ".venv",
   "language": "python",
   "name": "python3"
  },
  "language_info": {
   "codemirror_mode": {
    "name": "ipython",
    "version": 3
   },
   "file_extension": ".py",
   "mimetype": "text/x-python",
   "name": "python",
   "nbconvert_exporter": "python",
   "pygments_lexer": "ipython3",
   "version": "3.11.9"
  }
 },
 "nbformat": 4,
 "nbformat_minor": 5
}
