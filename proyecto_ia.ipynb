{
 "cells": [
  {
   "cell_type": "code",
   "execution_count": 5,
   "id": "ebbd0e13",
   "metadata": {},
   "outputs": [
    {
     "name": "stdout",
     "output_type": "stream",
     "text": [
      "Características: (1797, 64)\n",
      "Etiquetas: (1797,)\n"
     ]
    },
    {
     "data": {
      "text/plain": [
       "<Figure size 640x480 with 0 Axes>"
      ]
     },
     "metadata": {},
     "output_type": "display_data"
    },
    {
     "data": {
      "image/png": "[encoded data removed]",
      "text/plain": [
       "<Figure size 480x480 with 1 Axes>"
      ]
     },
     "metadata": {},
     "output_type": "display_data"
    },
    {
     "name": "stdout",
     "output_type": "stream",
     "text": [
      "Etiqueta real: 0\n",
      "Precisión del modelo: 0.975\n"
     ]
    },
    {
     "data": {
      "text/plain": [
       "<Figure size 640x480 with 0 Axes>"
      ]
     },
     "metadata": {},
     "output_type": "display_data"
    },
    {
     "data": {
      "image/png": "[encoded data removed]",
      "text/plain": [
       "<Figure size 480x480 with 1 Axes>"
      ]
     },
     "metadata": {},
     "output_type": "display_data"
    },
    {
     "name": "stdout",
     "output_type": "stream",
     "text": [
      "Predicción de la IA: [6]\n",
      "Etiqueta real: 6\n"
     ]
    }
   ],
   "source": [
    "import numpy as np\n",
    "import pandas as pd\n",
    "import matplotlib.pyplot as plt\n",
    "from sklearn import datasets\n",
    "from sklearn.model_selection import train_test_split\n",
    "from sklearn.linear_model import LogisticRegression\n",
    "\n",
    "# Cargar dataset de dígitos\n",
    "digitos = datasets.load_digits()\n",
    "\n",
    "print(\"Características:\", digitos.data.shape)\n",
    "print(\"Etiquetas:\", digitos.target.shape)\n",
    "\n",
    "# Mostrar un dígito\n",
    "plt.gray()\n",
    "plt.matshow(digitos.images[0])\n",
    "plt.show()\n",
    "\n",
    "print(\"Etiqueta real:\", digitos.target[0])\n",
    "\n",
    "# Dividir datos en entrenamiento y prueba\n",
    "X_train, X_test, y_train, y_test = train_test_split(\n",
    "    digitos.data, digitos.target, test_size=0.2, random_state=42\n",
    ")\n",
    "\n",
    "# Crear el modelo\n",
    "modelo = LogisticRegression(max_iter=10000)\n",
    "\n",
    "# Entrenar\n",
    "modelo.fit(X_train, y_train)\n",
    "\n",
    "# Evaluar\n",
    "precision = modelo.score(X_test, y_test)\n",
    "print(\"Precisión del modelo:\", precision)\n",
    "\n",
    "# Elegimos un número del conjunto de prueba\n",
    "index = 0\n",
    "plt.gray()\n",
    "plt.matshow(X_test[index].reshape(8,8))\n",
    "plt.show()\n",
    "\n",
    "print(\"Predicción de la IA:\", modelo.predict([X_test[index]]))\n",
    "print(\"Etiqueta real:\", y_test[index])\n"
   ]
  },
  {
   "cell_type": "markdown",
   "id": "25197ea4",
   "metadata": {},
   "source": [
    "import numpy\n",
    "import pandas\n",
    "import matplotlib\n",
    "import sklearn\n",
    "\n",
    "print(\"✅ Todo está funcionando bien\")\n"
   ]
  },
  {
   "cell_type": "markdown",
   "id": "f7c0ae7b",
   "metadata": {},
   "source": []
  }
 ],
 "metadata": {
  "kernelspec": {
   "display_name": ".venv",
   "language": "python",
   "name": "python3"
  },
  "language_info": {
   "codemirror_mode": {
    "name": "ipython",
    "version": 3
   },
   "file_extension": ".py",
   "mimetype": "text/x-python",
   "name": "python",
   "nbconvert_exporter": "python",
   "pygments_lexer": "ipython3",
   "version": "3.11.9"
  }
 },
 "nbformat": 4,
 "nbformat_minor": 5
}
